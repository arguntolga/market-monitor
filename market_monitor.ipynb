{
  "cells": [
    {
      "cell_type": "markdown",
      "metadata": {
        "colab_type": "text",
        "id": "view-in-github"
      },
      "source": [
        "<a href=\"https://colab.research.google.com/github/arguntolga/market-monitor/blob/main/drivemount.ipynb\" target=\"_parent\"><img src=\"https://colab.research.google.com/assets/colab-badge.svg\" alt=\"Open In Colab\"/></a>"
      ]
    },
    {
      "cell_type": "code",
      "execution_count": null,
      "metadata": {
        "id": "8pd83-a2zYEh"
      },
      "outputs": [],
      "source": [
        "from google.colab import drive\n",
        "drive.mount('/content/drive') #, force_remount=True)\n",
        "\n",
        "%cd /content/drive/MyDrive/Github\n",
        "\n",
        "!rm -rf market-monitor\n",
        "\n",
        "#!mkdir -p market-monitor\n",
        "#%cd market-monitor\n",
        "!git clone https://github.com/arguntolga/market-monitor.git\n",
        "%cd /content/drive/MyDrive/Github/market-monitor"
      ]
    },
    {
      "cell_type": "code",
      "execution_count": null,
      "metadata": {
        "id": "jQi6RdSWsftm"
      },
      "outputs": [],
      "source": [
        "import sys\n",
        "import Util as util\n",
        "#sys.path.append('/content/drive/MyDrive/Github/market-monitor')\n",
        "\n",
        "print(util.calculator(40, 59))"
      ]
    },
    {
      "cell_type": "code",
      "execution_count": null,
      "metadata": {
        "id": "CLlUkw9cgkUe"
      },
      "outputs": [],
      "source": []
    }
  ],
  "metadata": {
    "colab": {
      "authorship_tag": "ABX9TyN2baS/v90Wp5yg9RTdGG6c",
      "include_colab_link": true,
      "provenance": []
    },
    "kernelspec": {
      "display_name": "Python 3",
      "name": "python3"
    },
    "language_info": {
      "name": "python"
    }
  },
  "nbformat": 4,
  "nbformat_minor": 0
}
